{
 "cells": [
  {
   "cell_type": "markdown",
   "metadata": {
    "collapsed": true
   },
   "source": [
    "# Exercice 2"
   ]
  },
  {
   "cell_type": "code",
   "execution_count": 2,
   "metadata": {},
   "outputs": [],
   "source": [
    "import pandas as pd\n",
    "import numpy as np\n",
    "import matplotlib.pyplot as plt"
   ]
  },
  {
   "cell_type": "markdown",
   "metadata": {},
   "source": [
    "## Question 1 - Série"
   ]
  },
  {
   "cell_type": "code",
   "execution_count": 3,
   "metadata": {},
   "outputs": [],
   "source": [
    "s = pd.Series(['Big Data pour la Transformation Numérique', 'Architecture et Sécurité des Réseaux',\n",
    "               'Ingénieur d’Affaires : Informatique et Réseaux', 'Ingénierie des Services du Numérique',\n",
    "               'Ingénieur Finance', 'Automatique et Robotique Industrielle', 'Énergie et Développement Durable',\n",
    "               'Génie Électrique et Transport', 'Ingénieur d’Affaires : Distribution Énergie et Signaux',\n",
    "               'Mécatronique Génie Électrique', 'Ingénierie des Systèmes Embarqués : Véhicule Autonome',\n",
    "               'Ingénierie des Systèmes Embarqués : Objets Communicants', 'Ingénierie des Systèmes Médicaux',\n",
    "               'Electronique des Systèmes pour l’Automobile et l’Aéronautique', 'Ingénierie Télécom'],\n",
    "              ['BDTN', 'ASR', 'IA-IR', 'ISN', 'IF', 'ARI', 'EDD', 'GET', 'IA-DES', 'MCTGE', 'ISE-VA', 'ISE-OC',\n",
    "               'ISYMED', 'ESAA', 'ICOM'])"
   ]
  },
  {
   "cell_type": "code",
   "execution_count": 4,
   "metadata": {},
   "outputs": [
    {
     "data": {
      "text/plain": [
       "BDTN              Big Data pour la Transformation Numérique\n",
       "ASR                    Architecture et Sécurité des Réseaux\n",
       "IA-IR        Ingénieur d’Affaires : Informatique et Réseaux\n",
       "ISN                    Ingénierie des Services du Numérique\n",
       "IF                                        Ingénieur Finance\n",
       "ARI                   Automatique et Robotique Industrielle\n",
       "EDD                        Énergie et Développement Durable\n",
       "GET                           Génie Électrique et Transport\n",
       "IA-DES    Ingénieur d’Affaires : Distribution Énergie et...\n",
       "MCTGE                         Mécatronique Génie Électrique\n",
       "ISE-VA    Ingénierie des Systèmes Embarqués : Véhicule A...\n",
       "ISE-OC    Ingénierie des Systèmes Embarqués : Objets Com...\n",
       "ISYMED                     Ingénierie des Systèmes Médicaux\n",
       "ESAA      Electronique des Systèmes pour l’Automobile et...\n",
       "ICOM                                     Ingénierie Télécom\n",
       "dtype: object"
      ]
     },
     "execution_count": 4,
     "metadata": {},
     "output_type": "execute_result"
    }
   ],
   "source": [
    "s"
   ]
  },
  {
   "cell_type": "code",
   "execution_count": 5,
   "metadata": {},
   "outputs": [],
   "source": [
    "df = pd.DataFrame(s)"
   ]
  },
  {
   "cell_type": "code",
   "execution_count": 6,
   "metadata": {},
   "outputs": [],
   "source": [
    "df['departement'] = ['TIC','TIC','TIC','TIC','TIC','GEE','GEE','GEE','GEE','SEI','SEI','SEI','SEI','ET','ET']"
   ]
  },
  {
   "cell_type": "code",
   "execution_count": 7,
   "metadata": {},
   "outputs": [],
   "source": [
    "df.columns = ['Dominante', 'Departement']"
   ]
  },
  {
   "cell_type": "code",
   "execution_count": 8,
   "metadata": {},
   "outputs": [
    {
     "data": {
      "text/html": [
       "<div>\n",
       "<style scoped>\n",
       "    .dataframe tbody tr th:only-of-type {\n",
       "        vertical-align: middle;\n",
       "    }\n",
       "\n",
       "    .dataframe tbody tr th {\n",
       "        vertical-align: top;\n",
       "    }\n",
       "\n",
       "    .dataframe thead th {\n",
       "        text-align: right;\n",
       "    }\n",
       "</style>\n",
       "<table border=\"1\" class=\"dataframe\">\n",
       "  <thead>\n",
       "    <tr style=\"text-align: right;\">\n",
       "      <th></th>\n",
       "      <th>Dominante</th>\n",
       "      <th>Departement</th>\n",
       "    </tr>\n",
       "  </thead>\n",
       "  <tbody>\n",
       "    <tr>\n",
       "      <th>BDTN</th>\n",
       "      <td>Big Data pour la Transformation Numérique</td>\n",
       "      <td>TIC</td>\n",
       "    </tr>\n",
       "    <tr>\n",
       "      <th>ASR</th>\n",
       "      <td>Architecture et Sécurité des Réseaux</td>\n",
       "      <td>TIC</td>\n",
       "    </tr>\n",
       "    <tr>\n",
       "      <th>IA-IR</th>\n",
       "      <td>Ingénieur d’Affaires : Informatique et Réseaux</td>\n",
       "      <td>TIC</td>\n",
       "    </tr>\n",
       "    <tr>\n",
       "      <th>ISN</th>\n",
       "      <td>Ingénierie des Services du Numérique</td>\n",
       "      <td>TIC</td>\n",
       "    </tr>\n",
       "    <tr>\n",
       "      <th>IF</th>\n",
       "      <td>Ingénieur Finance</td>\n",
       "      <td>TIC</td>\n",
       "    </tr>\n",
       "    <tr>\n",
       "      <th>ARI</th>\n",
       "      <td>Automatique et Robotique Industrielle</td>\n",
       "      <td>GEE</td>\n",
       "    </tr>\n",
       "    <tr>\n",
       "      <th>EDD</th>\n",
       "      <td>Énergie et Développement Durable</td>\n",
       "      <td>GEE</td>\n",
       "    </tr>\n",
       "    <tr>\n",
       "      <th>GET</th>\n",
       "      <td>Génie Électrique et Transport</td>\n",
       "      <td>GEE</td>\n",
       "    </tr>\n",
       "    <tr>\n",
       "      <th>IA-DES</th>\n",
       "      <td>Ingénieur d’Affaires : Distribution Énergie et...</td>\n",
       "      <td>GEE</td>\n",
       "    </tr>\n",
       "    <tr>\n",
       "      <th>MCTGE</th>\n",
       "      <td>Mécatronique Génie Électrique</td>\n",
       "      <td>SEI</td>\n",
       "    </tr>\n",
       "    <tr>\n",
       "      <th>ISE-VA</th>\n",
       "      <td>Ingénierie des Systèmes Embarqués : Véhicule A...</td>\n",
       "      <td>SEI</td>\n",
       "    </tr>\n",
       "    <tr>\n",
       "      <th>ISE-OC</th>\n",
       "      <td>Ingénierie des Systèmes Embarqués : Objets Com...</td>\n",
       "      <td>SEI</td>\n",
       "    </tr>\n",
       "    <tr>\n",
       "      <th>ISYMED</th>\n",
       "      <td>Ingénierie des Systèmes Médicaux</td>\n",
       "      <td>SEI</td>\n",
       "    </tr>\n",
       "    <tr>\n",
       "      <th>ESAA</th>\n",
       "      <td>Electronique des Systèmes pour l’Automobile et...</td>\n",
       "      <td>ET</td>\n",
       "    </tr>\n",
       "    <tr>\n",
       "      <th>ICOM</th>\n",
       "      <td>Ingénierie Télécom</td>\n",
       "      <td>ET</td>\n",
       "    </tr>\n",
       "  </tbody>\n",
       "</table>\n",
       "</div>"
      ],
      "text/plain": [
       "                                                Dominante Departement\n",
       "BDTN            Big Data pour la Transformation Numérique         TIC\n",
       "ASR                  Architecture et Sécurité des Réseaux         TIC\n",
       "IA-IR      Ingénieur d’Affaires : Informatique et Réseaux         TIC\n",
       "ISN                  Ingénierie des Services du Numérique         TIC\n",
       "IF                                      Ingénieur Finance         TIC\n",
       "ARI                 Automatique et Robotique Industrielle         GEE\n",
       "EDD                      Énergie et Développement Durable         GEE\n",
       "GET                         Génie Électrique et Transport         GEE\n",
       "IA-DES  Ingénieur d’Affaires : Distribution Énergie et...         GEE\n",
       "MCTGE                       Mécatronique Génie Électrique         SEI\n",
       "ISE-VA  Ingénierie des Systèmes Embarqués : Véhicule A...         SEI\n",
       "ISE-OC  Ingénierie des Systèmes Embarqués : Objets Com...         SEI\n",
       "ISYMED                   Ingénierie des Systèmes Médicaux         SEI\n",
       "ESAA    Electronique des Systèmes pour l’Automobile et...          ET\n",
       "ICOM                                   Ingénierie Télécom          ET"
      ]
     },
     "execution_count": 8,
     "metadata": {},
     "output_type": "execute_result"
    }
   ],
   "source": [
    "df"
   ]
  },
  {
   "cell_type": "code",
   "execution_count": 9,
   "metadata": {},
   "outputs": [],
   "source": [
    "collocation = pd.DataFrame({'Nom': ['BERGEOT', 'CASANOVA', 'DECHASSE', 'PERRIN'],\n",
    "                   'Prénom': ['Melanie', 'Gabriel', 'Antoine', 'Jean-Loup'],\n",
    "                   'Dominante' : ['BDTN', 'ISE-OC', 'ISE-OC', 'ISE-VA']},\n",
    "                  index = [1, 2, 3, 4])"
   ]
  },
  {
   "cell_type": "code",
   "execution_count": 10,
   "metadata": {},
   "outputs": [
    {
     "data": {
      "text/html": [
       "<div>\n",
       "<style scoped>\n",
       "    .dataframe tbody tr th:only-of-type {\n",
       "        vertical-align: middle;\n",
       "    }\n",
       "\n",
       "    .dataframe tbody tr th {\n",
       "        vertical-align: top;\n",
       "    }\n",
       "\n",
       "    .dataframe thead th {\n",
       "        text-align: right;\n",
       "    }\n",
       "</style>\n",
       "<table border=\"1\" class=\"dataframe\">\n",
       "  <thead>\n",
       "    <tr style=\"text-align: right;\">\n",
       "      <th></th>\n",
       "      <th>Dominante</th>\n",
       "      <th>Nom</th>\n",
       "      <th>Prénom</th>\n",
       "    </tr>\n",
       "  </thead>\n",
       "  <tbody>\n",
       "    <tr>\n",
       "      <th>1</th>\n",
       "      <td>BDTN</td>\n",
       "      <td>BERGEOT</td>\n",
       "      <td>Melanie</td>\n",
       "    </tr>\n",
       "    <tr>\n",
       "      <th>2</th>\n",
       "      <td>ISE-OC</td>\n",
       "      <td>CASANOVA</td>\n",
       "      <td>Gabriel</td>\n",
       "    </tr>\n",
       "    <tr>\n",
       "      <th>3</th>\n",
       "      <td>ISE-OC</td>\n",
       "      <td>DECHASSE</td>\n",
       "      <td>Antoine</td>\n",
       "    </tr>\n",
       "    <tr>\n",
       "      <th>4</th>\n",
       "      <td>ISE-VA</td>\n",
       "      <td>PERRIN</td>\n",
       "      <td>Jean-Loup</td>\n",
       "    </tr>\n",
       "  </tbody>\n",
       "</table>\n",
       "</div>"
      ],
      "text/plain": [
       "  Dominante       Nom     Prénom\n",
       "1      BDTN   BERGEOT    Melanie\n",
       "2    ISE-OC  CASANOVA    Gabriel\n",
       "3    ISE-OC  DECHASSE    Antoine\n",
       "4    ISE-VA    PERRIN  Jean-Loup"
      ]
     },
     "execution_count": 10,
     "metadata": {},
     "output_type": "execute_result"
    }
   ],
   "source": [
    "collocation"
   ]
  },
  {
   "cell_type": "code",
   "execution_count": 11,
   "metadata": {},
   "outputs": [],
   "source": [
    "pourcentage = pd.DataFrame({'Pourcentage' : [(1/4)*100, (2/4)*100, (1/4)*100]},\n",
    "                  index = ['BDTN', 'ISE-OC','ISE-VA'])"
   ]
  },
  {
   "cell_type": "code",
   "execution_count": 12,
   "metadata": {},
   "outputs": [
    {
     "data": {
      "text/html": [
       "<div>\n",
       "<style scoped>\n",
       "    .dataframe tbody tr th:only-of-type {\n",
       "        vertical-align: middle;\n",
       "    }\n",
       "\n",
       "    .dataframe tbody tr th {\n",
       "        vertical-align: top;\n",
       "    }\n",
       "\n",
       "    .dataframe thead th {\n",
       "        text-align: right;\n",
       "    }\n",
       "</style>\n",
       "<table border=\"1\" class=\"dataframe\">\n",
       "  <thead>\n",
       "    <tr style=\"text-align: right;\">\n",
       "      <th></th>\n",
       "      <th>Pourcentage</th>\n",
       "    </tr>\n",
       "  </thead>\n",
       "  <tbody>\n",
       "    <tr>\n",
       "      <th>BDTN</th>\n",
       "      <td>25.0</td>\n",
       "    </tr>\n",
       "    <tr>\n",
       "      <th>ISE-OC</th>\n",
       "      <td>50.0</td>\n",
       "    </tr>\n",
       "    <tr>\n",
       "      <th>ISE-VA</th>\n",
       "      <td>25.0</td>\n",
       "    </tr>\n",
       "  </tbody>\n",
       "</table>\n",
       "</div>"
      ],
      "text/plain": [
       "        Pourcentage\n",
       "BDTN           25.0\n",
       "ISE-OC         50.0\n",
       "ISE-VA         25.0"
      ]
     },
     "execution_count": 12,
     "metadata": {},
     "output_type": "execute_result"
    }
   ],
   "source": [
    "pourcentage"
   ]
  },
  {
   "cell_type": "code",
   "execution_count": 13,
   "metadata": {},
   "outputs": [
    {
     "ename": "SyntaxError",
     "evalue": "invalid syntax (<ipython-input-13-99df55654957>, line 1)",
     "output_type": "error",
     "traceback": [
      "\u001b[1;36m  File \u001b[1;32m\"<ipython-input-13-99df55654957>\"\u001b[1;36m, line \u001b[1;32m1\u001b[0m\n\u001b[1;33m    ipython nbconvert --to csv Exercice 2 - Pandas.ipynb\u001b[0m\n\u001b[1;37m                    ^\u001b[0m\n\u001b[1;31mSyntaxError\u001b[0m\u001b[1;31m:\u001b[0m invalid syntax\n"
     ]
    }
   ],
   "source": [
    "ipython nbconvert --to csv Exercice 2 - Pandas.ipynb"
   ]
  }
 ],
 "metadata": {
  "kernelspec": {
   "display_name": "Python 3",
   "language": "python",
   "name": "python3"
  },
  "language_info": {
   "codemirror_mode": {
    "name": "ipython",
    "version": 3
   },
   "file_extension": ".py",
   "mimetype": "text/x-python",
   "name": "python",
   "nbconvert_exporter": "python",
   "pygments_lexer": "ipython3",
   "version": "3.6.4"
  }
 },
 "nbformat": 4,
 "nbformat_minor": 2
}
