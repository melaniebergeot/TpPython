{
 "cells": [
  {
   "cell_type": "markdown",
   "metadata": {},
   "source": [
    "# Apprendre python en 10 minutes\n",
    "\n",
    "NOTE : si vous voulez developper un peu en Python, mon entreprise,  Stochastic Technologies, est disponible pour le conseil.\n",
    "\n",
    "Ces travaux dirigés sont disponibles comme un livre électronique court. Le livre électronique représente le contenu supplémentaire de postes de suivi sur le Python divers les meilleures pratiques, tout dans un format commode, indépendant. Toutes les mises à jour futures sont gratuite pour les gens qui l'achètent."
   ]
  },
  {
   "cell_type": "markdown",
   "metadata": {},
   "source": [
    "# preliminaire\n",
    "\n",
    "Ainsi, vous voulez apprendre le Python mais vous ne trouvez pas un tutoriel concis avec des travaux diriges. Ces travaux dirigés ou didacticiel essayeront de vous enseigner le Python en 10 minutes. Ce n'est pas probablement autant des travaux dirigés(un didacticiel) que c'est un croisement un didacticiel et une fiche de cours, donc il vous montrera juste quelques concepts de base pour vous commencer. Évidemment, si vous voulez vraiment apprendre un language de programmation vous devez y programmer pendant un certain temps. Je supposerai que vous êtes déjà familiers de la programmation et, sauterez donc la plupart des choses non spécifique. Les mots-clés importants seront mis en évidence(surlignés) afin de facilement les découvrir. Aussi, prêtez attention parce que,cetaines choses sont directement présente dans le code.\n",
    "\n"
   ]
  },
  {
   "cell_type": "markdown",
   "metadata": {},
   "source": [
    "# Propriété\n",
    "\n",
    "\n",
    "Le python est fortement typé, dynamiquement, implicitement tupé (c'est-à-dire vous ne devez pas déclarer des variables), sensible au cas(exemple var et VAR sont deux variables différentes) et orienté objet (c'est-à-dire tout est un objet).\n"
   ]
  },
  {
   "cell_type": "markdown",
   "metadata": {},
   "source": [
    "# aide\n",
    "\n",
    "L'aide dans le Python est toujours disponible dans l'interprète. Si vous voulez savoir comment un objet travaille, tout que vous devez faire est d'appeler help(object>)!,  le dir () est aussi utile, qui vous montre les méthodes de tout l'objet and object>.__doc__, qui nous montre sa documentation de string "
   ]
  },
  {
   "cell_type": "markdown",
   "metadata": {},
   "source": [
    "# Syntaxe\n",
    "\n",
    "Python n'a pas les caractères de fin d'instruction obligatoires et les blocs sont spécifiés par indentation. Mettre en retrait pour commencer un bloc, en déduire pour en terminer un. Les instructions qui attendent un niveau d'indentation se terminent par deux points (:). Les commentaires commencent par le signe dièse (#) et sont des lignes à une ligne et à plusieurs lignes qui sont utilisées pour les commentaires sur plusieurs lignes. Les valeurs sont attribuées (en fait, les objets sont liés aux noms) avec le signe égal (\"=\"), et le test d'égalité est effectué en utilisant deux signes égal (\"==\"). Vous pouvez incrémenter / décrémenter des valeurs en utilisant les opérateurs + = et - = respectivement par le montant de la main droite. Cela fonctionne sur de nombreux types de données, les chaînes incluses. Vous pouvez également utiliser plusieurs variables sur une ligne. Par exemple:"
   ]
  },
  {
   "cell_type": "code",
   "execution_count": 3,
   "metadata": {},
   "outputs": [
    {
     "name": "stdout",
     "output_type": "stream",
     "text": [
      "Bonjour le monde.\n"
     ]
    }
   ],
   "source": [
    ">>> myvar = 3\n",
    ">>> myvar += 2\n",
    ">>> myvar\n",
    "5\n",
    ">>> myvar -= 1\n",
    ">>> myvar\n",
    "4\n",
    "\"\"\"This is a multiline comment.\n",
    "The following lines concatenate the two strings.\"\"\"\n",
    ">>> mystring = \"Bonjour\"\n",
    ">>> mystring += \" le monde.\"\n",
    ">>> print(mystring)\n",
    "# Bonjour le monde.\n",
    "# echange les variables en une ligne\n",
    ">>> myvar, mystring = mystring, myvar"
   ]
  },
  {
   "cell_type": "markdown",
   "metadata": {},
   "source": [
    "# Data types\n",
    "\n",
    "data structures disponibles en python: liste, tuples, dictionnaires \n",
    "liste: un tableau a 1 dimension (mais on peut aussi avoir une liste d'autres liste),les dictionnaires dont des tableaux associatifs (ex: hash table) \n",
    "tuples : tableau unidimensionnel (tableau en python peuvent etre de n'importe quel type on peux mixer les integer,string ...) \n",
    "\n",
    "l'index du premier article de chaque tableau est 0.\n",
    "\n",
    "Les nombres négatifs commence la fin vers le début, -1 est le dernier élément. Les variables peuvent pointer vers des fonctions. L'utilisation est la suivante:"
   ]
  },
  {
   "cell_type": "code",
   "execution_count": 4,
   "metadata": {},
   "outputs": [
    {
     "name": "stdout",
     "output_type": "stream",
     "text": [
      "3\n"
     ]
    }
   ],
   "source": [
    ">>> sample = [1, [\"another\", \"list\"], (\"a\", \"tuple\")]\n",
    ">>> mylist = [\"List item 1\", 2, 3.14]\n",
    ">>> mylist[0] = \"List item 1 again\" # on change l'article.\n",
    ">>> mylist[-1] = 3.21 # ici on fait reference aux dernier article.\n",
    ">>> mydict = {\"Key 1\": \"Value 1\", 2: 3, \"pi\": 3.14}\n",
    ">>> mydict[\"pi\"] = 3.15 # on change la valeur du dictionnaire.\n",
    ">>> mytuple = (1, 2, 3)\n",
    ">>> myfunction = len\n",
    ">>> print(myfunction(mylist))"
   ]
  },
  {
   "cell_type": "markdown",
   "metadata": {},
   "source": [
    "\n",
    "You can access array ranges using a colon (:). Leaving the start index empty assumes the first item, leaving the end index assumes the last item. Indexing is inclusive-exclusive, so specifying [2:10] will return items [2] (the third item, because of 0-indexing) to [9] (the tenth item), inclusive (8 items). Negative indexes count from the last item backwards (thus -1 is the last item) like so:\n",
    "\n",
    "Vous pouvez accéder aux plages de tableaux en utilisant un deux-points (:). Laisser l'index de départ vide fait reference au premier élément. L'indexation est inclusive-exclusive, donc spécifier [2:10] retournera les articles [2] (le troisième article, à cause de l'indexation 0) à [9] (le dixième article), inclus (8 article). Les index négatifs comptent à partir du dernier élément en arrière (donc -1 est le dernier élément) comme ceci:"
   ]
  },
  {
   "cell_type": "code",
   "execution_count": 5,
   "metadata": {},
   "outputs": [
    {
     "name": "stdout",
     "output_type": "stream",
     "text": [
      "['List item 1', 2, 3.14]\n",
      "['List item 1', 2]\n",
      "['List item 1', 2]\n",
      "[2, 3.14]\n",
      "['List item 1', 3.14]\n"
     ]
    },
    {
     "data": {
      "text/plain": [
       "['List item 1', 3.14]"
      ]
     },
     "execution_count": 5,
     "metadata": {},
     "output_type": "execute_result"
    }
   ],
   "source": [
    ">>> mylist = [\"List item 1\", 2, 3.14]\n",
    ">>> print(mylist[:])\n",
    "['List item 1', 2, 3.1400000000000001]\n",
    ">>> print(mylist[0:2])\n",
    "['List item 1', 2]\n",
    ">>> print(mylist[-3:-1])\n",
    "['List item 1', 2]\n",
    ">>> print(mylist[1:])\n",
    "[2, 3.14]\n",
    "# ajoute un 3eme parametre, \"step\" pas de python avec N articles in\n",
    "# incrementés, plutôt que 1.\n",
    "# ex : retourne le 1er elements, va au 3eme et retourne ça (articla 0 et 2 dans l'indexation 0)\n",
    ">>> print(mylist[::2])\n",
    "['List item 1', 3.14]\n"
   ]
  },
  {
   "cell_type": "markdown",
   "metadata": {},
   "source": [
    "# String\n",
    "\n",
    "guillemet simple ou doubles, on peut avoir des guillete d'un type qui uilise des guillemet des autres type(exemple: \"Il a dit 'hello'.\" Est valide). \n",
    "\n",
    "Les chaînes multilignes sont entourées de guillemets triples doubles (ou \"single\") (\"\" \") .\n",
    "Python prend en charge Unicode en utilisant la syntaxe\" Ceci est une chaîne unicode \"Pour remplir une chaîne avec des valeurs, vous utilisez le% ( modulo) et un tuple Chaque% s est remplacé par un élément du tuple, de gauche à droite, et vous pouvez également utiliser des substitutions de dictionnaire, comme ceci:"
   ]
  },
  {
   "cell_type": "code",
   "execution_count": 5,
   "metadata": {},
   "outputs": [
    {
     "ename": "SyntaxError",
     "evalue": "invalid syntax (<ipython-input-5-7e141969f8b3>, line 13)",
     "output_type": "error",
     "traceback": [
      "\u001b[1;36m  File \u001b[1;32m\"<ipython-input-5-7e141969f8b3>\"\u001b[1;36m, line \u001b[1;32m13\u001b[0m\n\u001b[1;33m    >>> print(\"This %(verb)s a %(noun)s.\" % {\"noun\": \"test\", \"verb\": \"is\"})\u001b[0m\n\u001b[1;37m     ^\u001b[0m\n\u001b[1;31mSyntaxError\u001b[0m\u001b[1;31m:\u001b[0m invalid syntax\n"
     ]
    }
   ],
   "source": [
    "myclass={'name' : 'poromenos'} \n",
    "print(\"Nom: %s\\\n",
    "Nombre: %s\\\n",
    "String: %s\" % (myclass.name, 3, 3 * \"-\"))\n",
    "#myclass.name n'existe pas\n",
    "#nom: Poromenos\n",
    "#Nombre: 3\n",
    "#String: ---\n",
    "\n",
    "strString = \"\"\"This is\n",
    "a multiline\n",
    "string.\"\"\"\n",
    "\n",
    "# WARNING: Watch out for the trailing s in \"%(key)s\".\n",
    ">>> print(\"This %(verb)s a %(noun)s.\" % {\"noun\": \"test\", \"verb\": \"is\"})\n",
    "#This is a test."
   ]
  },
  {
   "cell_type": "code",
   "execution_count": 4,
   "metadata": {},
   "outputs": [
    {
     "name": "stdout",
     "output_type": "stream",
     "text": [
      "nom : jeanclaude et age : 8 \n",
      "nom : jeanclaude et age : 18 \n"
     ]
    }
   ],
   "source": [
    "myclass={'name' : 'jeanclaude', 'age' : 18}\n",
    "print('nom : %s et age : %s ' % (myclass[\"name\"], 8) )\n",
    "print('nom : %s et age : %s ' % (myclass[\"name\"], myclass[\"age\"]) )"
   ]
  },
  {
   "cell_type": "markdown",
   "metadata": {},
   "source": [
    "# Les instructions de contrôle de flux\n",
    "\n",
    "Les instructions de contrôle de flux sont if, for, et while. Il n'y a pas de commutateur Au lieu de cela, utilisez si. Utilisez pour énumérer les membres d'une liste. Pour obtenir une liste de nombres, utilisez range (<nombre>). La syntaxe de ces déclarations est donc:"
   ]
  },
  {
   "cell_type": "code",
   "execution_count": null,
   "metadata": {
    "collapsed": true
   },
   "outputs": [],
   "source": [
    "rangelist = range(10)\n",
    ">>> print(rangelist)\n",
    "[0, 1, 2, 3, 4, 5, 6, 7, 8, 9]\n",
    "for number in rangelist:\n",
    "    # verifie si le nombre est un des nombre dans le tuple \n",
    "    if number in (3, 4, 7, 9):\n",
    "        # \"Break\" permet de sortir\n",
    "        break\n",
    "    else:\n",
    "        # \"Continue\" commence la prochaine iteration dans la \n",
    "        # dans la boucle. c'est souvent inutile,\n",
    "        # comme si cetait le dernier état de la boucle.\n",
    "        continue\n",
    "else:\n",
    "    # \"else\" optionel, est execute que si ça ne \"break\" pas .\n",
    "    pass # ne fait rien\n",
    "\n",
    "if rangelist[1] == 2:\n",
    "    print(\"The second item (lists are 0-based) is 2\")\n",
    "elif rangelist[1] == 3:\n",
    "    print(\"The second item (lists are 0-based) is 3\")\n",
    "else:\n",
    "    print(\"Dunno\")\n",
    "\n",
    "while rangelist[1] == 1:\n",
    "    pass\n",
    "\n"
   ]
  },
  {
   "cell_type": "markdown",
   "metadata": {},
   "source": [
    "# Fonctions \n",
    "Les fonctions sont déclarées avec le mot-clé def.\n",
    "\n",
    "Les arguments facultatifs sont définis dans la déclaration de la fonction après les arguments obligatoires en leur affectant une valeur par défaut. Pour les arguments nommés, une valeur est attribuée au nom de l'argument. Les fonctions peuvent retourner un tuple (et en utilisant tuple déballage, vous pouvez retourner plusieurs valeurs). Les fonctions Lambda sont des fonctions \"ad hoc\" composées d'une seule instruction. Les paramètres sont transmis par référence, mais les types immuables (tuples, ints, chaînes, etc.) ne peuvent pas être changés dans l'appelant par l'appelé. Cela est dû au fait que seul l'emplacement de mémoire de l'élément est transmis et que la liaison d'un autre objet à une variable supprime l'ancienne, de sorte que les types immuables sont remplacés. Par exemple:"
   ]
  },
  {
   "cell_type": "code",
   "execution_count": 11,
   "metadata": {},
   "outputs": [
    {
     "name": "stdout",
     "output_type": "stream",
     "text": [
      "2\n",
      "([1, 2, 3, 'A new item'], 4, 'A default string')\n"
     ]
    },
    {
     "data": {
      "text/plain": [
       "10"
      ]
     },
     "execution_count": 11,
     "metadata": {},
     "output_type": "execute_result"
    }
   ],
   "source": [
    "# Meme que def funcvar(x): return x + 1\n",
    "funcvar = lambda x: x + 1\n",
    "print(funcvar(1))\n",
    "\n",
    "# an_int et a_string sont optionnel,elles ont des valeurs par défaut\n",
    "def passing_example(a_list, an_int=2, a_string=\"A default string\"):\n",
    "    a_list.append(\"A new item\")\n",
    "    an_int = 4\n",
    "    return a_list, an_int, a_string\n",
    "\n",
    "my_list = [1, 2, 3]\n",
    "my_int = 10\n",
    "print(passing_example(my_list, my_int))\n",
    "#([1, 2, 3, 'A new item'], 4, \"A default string\")\n",
    "my_list\n",
    "#[1, 2, 3, 'A new item']\n",
    "my_int\n",
    "#10"
   ]
  },
  {
   "cell_type": "markdown",
   "metadata": {},
   "source": [
    "# Classes\n",
    "les classes python supporte un nombre limités de support."
   ]
  },
  {
   "cell_type": "code",
   "execution_count": 12,
   "metadata": {},
   "outputs": [
    {
     "data": {
      "text/plain": [
       "3"
      ]
     },
     "execution_count": 12,
     "metadata": {},
     "output_type": "execute_result"
    }
   ],
   "source": [
    "#création de la classe \n",
    "class MyClass(object):\n",
    "    common = 10\n",
    "    def __init__(self):\n",
    "        self.myvariable = 3\n",
    "    def myfunction(self, arg1, arg2):\n",
    "        return self.myvariable\n",
    "#instantiation de la classe \n",
    "classinstance = MyClass()\n",
    "classinstance.myfunction(1, 2)\n"
   ]
  },
  {
   "cell_type": "code",
   "execution_count": 13,
   "metadata": {},
   "outputs": [
    {
     "data": {
      "text/plain": [
       "10"
      ]
     },
     "execution_count": 13,
     "metadata": {},
     "output_type": "execute_result"
    }
   ],
   "source": [
    "#cette variable est partagé par toutes les instances \n",
    "classinstance2 = MyClass()\n",
    "classinstance.common"
   ]
  },
  {
   "cell_type": "code",
   "execution_count": 14,
   "metadata": {},
   "outputs": [
    {
     "data": {
      "text/plain": [
       "10"
      ]
     },
     "execution_count": 14,
     "metadata": {},
     "output_type": "execute_result"
    }
   ],
   "source": [
    "classinstance2.common"
   ]
  },
  {
   "cell_type": "code",
   "execution_count": 15,
   "metadata": {},
   "outputs": [
    {
     "data": {
      "text/plain": [
       "30"
      ]
     },
     "execution_count": 15,
     "metadata": {},
     "output_type": "execute_result"
    }
   ],
   "source": [
    "#on peut utiliser le nom de la classe\n",
    "MyClass.common = 30\n",
    "classinstance.common"
   ]
  },
  {
   "cell_type": "code",
   "execution_count": 16,
   "metadata": {},
   "outputs": [
    {
     "data": {
      "text/plain": [
       "30"
      ]
     },
     "execution_count": 16,
     "metadata": {},
     "output_type": "execute_result"
    }
   ],
   "source": [
    "classinstance2.common"
   ]
  },
  {
   "cell_type": "code",
   "execution_count": 19,
   "metadata": {},
   "outputs": [
    {
     "data": {
      "text/plain": [
       "10"
      ]
     },
     "execution_count": 19,
     "metadata": {},
     "output_type": "execute_result"
    }
   ],
   "source": [
    "#ça ne reactualise pas la variable de la classe, lie un nouvel objet au vieux\n",
    "classinstance.common = 10\n",
    "classinstance.common"
   ]
  },
  {
   "cell_type": "code",
   "execution_count": 20,
   "metadata": {},
   "outputs": [
    {
     "data": {
      "text/plain": [
       "30"
      ]
     },
     "execution_count": 20,
     "metadata": {},
     "output_type": "execute_result"
    }
   ],
   "source": [
    "classinstance2.common"
   ]
  },
  {
   "cell_type": "code",
   "execution_count": 21,
   "metadata": {},
   "outputs": [
    {
     "data": {
      "text/plain": [
       "10"
      ]
     },
     "execution_count": 21,
     "metadata": {},
     "output_type": "execute_result"
    }
   ],
   "source": [
    "#na pas changé car \"common\" n'est pas une variable d'instance\n",
    "MyClass.common = 50\n",
    "classinstance.common\n"
   ]
  },
  {
   "cell_type": "code",
   "execution_count": 22,
   "metadata": {},
   "outputs": [
    {
     "data": {
      "text/plain": [
       "50"
      ]
     },
     "execution_count": 22,
     "metadata": {},
     "output_type": "execute_result"
    }
   ],
   "source": [
    "classinstance2.common"
   ]
  },
  {
   "cell_type": "code",
   "execution_count": 33,
   "metadata": {},
   "outputs": [
    {
     "name": "stdout",
     "output_type": "stream",
     "text": [
      "hello\n"
     ]
    }
   ],
   "source": [
    "#Classe qui hérite de MyClass.\n",
    "#l'héritage multiple est déclaré comme: \n",
    "#class OtherClass(MyClass1, MyClass2, MyClassN)\n",
    "class OtherClass(MyClass):\n",
    "    # \"self\" fait reference a la classe instance\n",
    "    def __init__(self, arg1):\n",
    "        self.myvariable = 3\n",
    "        print(arg1)\n",
    "classinstance = OtherClass(\"hello\")\n",
    "classinstance.myfunction(1, 2)    \n"
   ]
  },
  {
   "cell_type": "code",
   "execution_count": 35,
   "metadata": {},
   "outputs": [
    {
     "data": {
      "text/plain": [
       "3"
      ]
     },
     "execution_count": 35,
     "metadata": {},
     "output_type": "execute_result"
    }
   ],
   "source": [
    "classinstance.myfunction(1, 2)  "
   ]
  },
  {
   "cell_type": "code",
   "execution_count": 37,
   "metadata": {},
   "outputs": [
    {
     "data": {
      "text/plain": [
       "10"
      ]
     },
     "execution_count": 37,
     "metadata": {},
     "output_type": "execute_result"
    }
   ],
   "source": [
    "#cette classe ne possede pas de .test member mais on peut en ajouter un a l'instance si besoin. \n",
    "#ça ne peut etre qu'uniquement un membre de la classe instance.\n",
    "classinstance.test = 10\n",
    "classinstance.test"
   ]
  },
  {
   "cell_type": "markdown",
   "metadata": {},
   "source": [
    "# Exceptions\n",
    "\n",
    "Les exceptions en Python sont gérées avec des blocs try-except "
   ]
  },
  {
   "cell_type": "code",
   "execution_count": 40,
   "metadata": {},
   "outputs": [
    {
     "name": "stdout",
     "output_type": "stream",
     "text": [
      "Oops, invalid.\n",
      "We're done with that.\n"
     ]
    }
   ],
   "source": [
    "def some_function():\n",
    "    try:\n",
    "        # une division par zero entraine une exception\n",
    "        10 / 0\n",
    "    except ZeroDivisionError:\n",
    "        print(\"Oops, invalid.\")\n",
    "    else:\n",
    "        # pas d'exception.\n",
    "        pass\n",
    "    finally:\n",
    "        # executé apres que ça soit lancé et que toute \n",
    "        # les exceptions soit prises en compte\n",
    "        # si une nouvelle exception est levée lors de la manipulation\n",
    "        print(\"We're done with that.\")\n",
    "\n",
    "some_function()"
   ]
  },
  {
   "cell_type": "markdown",
   "metadata": {},
   "source": [
    "# Importation\n",
    "\n",
    "les bibliothèques externes sont utilisées avec le mot-clé import [libname]. sous librairie : from [libname] import [funcname]\n"
   ]
  },
  {
   "cell_type": "code",
   "execution_count": 42,
   "metadata": {},
   "outputs": [
    {
     "name": "stdout",
     "output_type": "stream",
     "text": [
      "47\n"
     ]
    }
   ],
   "source": [
    "import random\n",
    "from time import clock\n",
    "\n",
    "randomint = random.randint(1, 100)\n",
    "print(randomint)"
   ]
  },
  {
   "cell_type": "markdown",
   "metadata": {},
   "source": [
    "# fichier E/S\n",
    "\n",
    "Python intègre un large éventail de bibliothèques. Par exemple, voici comment la sérialisation (conversion de structures de données en chaînes à l'aide de la bibliothèque de pickle) avec les E / S de fichiers est utilisée:"
   ]
  },
  {
   "cell_type": "code",
   "execution_count": 49,
   "metadata": {},
   "outputs": [
    {
     "name": "stdout",
     "output_type": "stream",
     "text": [
      "This is a sample string\n"
     ]
    }
   ],
   "source": [
    "import pickle\n",
    "mylist = [\"This\", \"is\", 4, 13327]\n",
    "# Ouvre le fichier C:\\\\binary.dat en écriture. la lettre r avant \n",
    "# le chemin du fichier est utilisé pour prévenir backslash furtifs.\n",
    "myfile = open(r\"binary.dat\", \"wb\")\n",
    "#aucun ficier de ce nom existe ici \n",
    "pickle.dump(mylist, myfile)\n",
    "myfile.close()\n",
    "\n",
    "myfile = open(\"text.txt\", \"w\")\n",
    "myfile.write(\"This is a sample string\")\n",
    "myfile.close()\n",
    "\n",
    "myfile = open(\"text.txt\")\n",
    "print(myfile.read())\n",
    "# probleme avec les / ils ne sont pas dans le bon sens \n",
    "\n"
   ]
  },
  {
   "cell_type": "markdown",
   "metadata": {},
   "source": [
    "# Divers\n",
    "\n",
    "Les conditions peuvent être enchaînées : 1 < a < 3 verifie que si les 2 sont inferieurs à 3 et plus grand que 1.\n",
    "Vous pouvez utiliser del pour supprimer des variables ou des articles dans des tableaux.\n",
    "Les compréhensions de liste fournissent une façon puissante de créer et manipuler des listes. C'est une expression suivie d'une clause \"for\" suivie par le zéro ou encore \"if or for\" des clauses, comme :\n",
    "    "
   ]
  },
  {
   "cell_type": "code",
   "execution_count": null,
   "metadata": {
    "collapsed": true
   },
   "outputs": [],
   "source": [
    "     \n",
    "\n",
    ">>> lst1 = [1, 2, 3]\n",
    ">>> lst2 = [3, 4, 5]\n",
    ">>> print([x * y for x in lst1 for y in lst2])\n",
    "[3, 4, 5, 6, 8, 10, 9, 12, 15]\n",
    ">>> print([x for x in lst1 if 4 > x > 1])\n",
    "[2, 3]\n",
    "# Verifie si la condition est vrai pour chaque objet,\n",
    "# \"any\" retourne vrai si chaque objet de la liste est vrai.\n",
    ">>> any([i % 3 for i in [3, 3, 4, 4, 3]])\n",
    "True\n",
    "# parce que  4 % 3 = 1, et 1 est vrai, donc any()\n",
    "# retourne True.\n",
    "\n",
    "#  Regarde pour combien d'objets la condition est vrai\n",
    ">>> sum(1 for i in [3, 3, 4, 4, 3] if i == 4)\n",
    "2\n",
    ">>> del lst1[0]\n",
    ">>> print(lst1)\n",
    "[2, 3]\n",
    ">>> del lst1\n"
   ]
  },
  {
   "cell_type": "markdown",
   "metadata": {},
   "source": [
    "On déclare des variables globales à l'extérieur des fonctions et qui ne peuvent être lu sans aucune déclaration spéciale, mais si vous voulez leur écrire vous devez les déclarer au début de la fonction avec le mot-clé global, autrement le Python liera cet objet à une nouvelle variable locale (être prudent de cela, c'est une petit piège qui peut vous obtenir si vous ne le savez pas). Par exemple :\n"
   ]
  },
  {
   "cell_type": "code",
   "execution_count": null,
   "metadata": {
    "collapsed": true
   },
   "outputs": [],
   "source": [
    "nombre = 5\n",
    "\n",
    "def myfunc():\n",
    "    # affiche 5.\n",
    "    print(nombre)\n",
    "\n",
    "def anotherfunc():\n",
    "    #  cette augmentation est une exception car la variable n'a pas été attaché \n",
    "    # avant d'imprimer. Python sait qu'un objet peut etre lies a celui ci plus tard.\n",
    "    # et créer un nouveau et locale objet à la place d avoir acces a la globale \n",
    "    \n",
    "    print(nombre)\n",
    "    nombre = 3\n",
    "\n",
    "def yetanotherfunc():\n",
    "    global nombre\n",
    "    # change correctement la variable global  \n",
    "    nombre = 3\n"
   ]
  },
  {
   "cell_type": "markdown",
   "metadata": {},
   "source": [
    "# Epilogue\n",
    "\n",
    "\n",
    " \n",
    "Ces travaux dirigés ne doivent pas être une liste exhaustive de tout (ou même un sous-ensemble) de Python. \n",
    "Le python a un tableau énorme de bibliothèques et beaucoup plus de fonctionnalité que vous devrez découvrir par d'autres moyens, comme le livre excellent \"Drive into Python\". \n",
    "J'espère que j'ai fait une facile introduction de python. Laissez des commentaires si vous croyez qu'il y a quelque chose qui pourrait être amélioré ou ajouté ou s'il y a autre chose que vous voudriez voir (des classes, le traitement d'erreur, quoi que ce soit).\n",
    "\n",
    "À propos, vous devriez me suivre sur Twitter.\n",
    "Licence de Communes Créative\n"
   ]
  }
 ],
 "metadata": {
  "kernelspec": {
   "display_name": "Python 3",
   "language": "python",
   "name": "python3"
  },
  "language_info": {
   "codemirror_mode": {
    "name": "ipython",
    "version": 3
   },
   "file_extension": ".py",
   "mimetype": "text/x-python",
   "name": "python",
   "nbconvert_exporter": "python",
   "pygments_lexer": "ipython3",
   "version": "3.6.4"
  }
 },
 "nbformat": 4,
 "nbformat_minor": 2
}
