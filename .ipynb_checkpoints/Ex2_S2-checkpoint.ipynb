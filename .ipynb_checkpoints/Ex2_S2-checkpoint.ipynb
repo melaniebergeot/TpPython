{
 "cells": [
  {
   "cell_type": "markdown",
   "metadata": {},
   "source": [
    "Pour cet exercice, sélectionnez une activité que vous avez réalisée avec plusieurs\n",
    "camarades de l’Ecole (PIC, Olympiades, paintball, match de waterponey,).\n",
    "\n",
    "\n",
    "\n",
    "2. Ajoutez une colonne avec le département auquel chaque dominante appartient.\n",
    "3. Créez une dataframe contenant le nom, prénom et code de dominante\n",
    "pour chaque participant à l’activité.\n",
    "4. Créez une dataframe contenant le pourcentage d’élèves par département\n",
    "pour l’activité.\n",
    "5. Enregistrez le résultat dans un fichier csv"
   ]
  },
  {
   "cell_type": "markdown",
   "metadata": {},
   "source": [
    "1. Créez une série dont, pour chaque ligne :\n",
    "\n",
    "l’index est un code pour chaque dominante de l’Esigelec la valeur est le nom complet de la dominante"
   ]
  },
  {
   "cell_type": "code",
   "execution_count": null,
   "metadata": {},
   "outputs": [],
   "source": [
    "## importation des fichiers \n",
    "import pandas as pd\n",
    "import numpy as np\n",
    "import matplotlib.pyplot as plt\n"
   ]
  },
  {
   "cell_type": "code",
   "execution_count": null,
   "metadata": {},
   "outputs": [],
   "source": [
    "Dominantes=[\"BDTN\", \"ASR\", \"ARI\", \"ISN\", \"IF\", \"IAIR\",\"EDD\",\"GET\",\"IA-DES\",\"MCTGE\",\"ISE-VA\",\"ISE-OC\",\"ISYMED\",\"ESAA\",\"ICOM\"]\n",
    "Nom_complet=[\"Big Data pour la Transformation Numérique\",\"Architecture et Sécurité des Réseaux\",\"Ingénierie des Services du Numérique\",\"Ingénieur d’Affaires : Informatique et Réseaux\",\"Énergie et Développement Durable\",\"Génie Électrique et Transport \",\"Ingénieur d’Affaires : Distribution Énergie et Signaux\",\"Mécatronique Génie Électrique\",\"Ingénierie des Systèmes Embarqués : Véhicule Autonome\",\"Ingénierie des Systèmes Embarqués : Objets Communicants\",\"Ingénierie des Systèmes Médicaux\",\"Electronique des Systèmes pour l’Automobile et l’Aéronautique \",\"Ingénierie Télécom\"]"
   ]
  },
  {
   "cell_type": "code",
   "execution_count": null,
   "metadata": {},
   "outputs": [],
   "source": []
  },
  {
   "cell_type": "code",
   "execution_count": null,
   "metadata": {},
   "outputs": [],
   "source": []
  },
  {
   "cell_type": "code",
   "execution_count": null,
   "metadata": {},
   "outputs": [],
   "source": []
  },
  {
   "cell_type": "code",
   "execution_count": null,
   "metadata": {},
   "outputs": [],
   "source": []
  }
 ],
 "metadata": {
  "kernelspec": {
   "display_name": "Python 3",
   "language": "python",
   "name": "python3"
  },
  "language_info": {
   "codemirror_mode": {
    "name": "ipython",
    "version": 3
   },
   "file_extension": ".py",
   "mimetype": "text/x-python",
   "name": "python",
   "nbconvert_exporter": "python",
   "pygments_lexer": "ipython3",
   "version": "3.6.4"
  }
 },
 "nbformat": 4,
 "nbformat_minor": 2
}
