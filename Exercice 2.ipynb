{
 "cells": [
  {
   "cell_type": "markdown",
   "metadata": {},
   "source": [
    "# Point fort et point faible des 4 structures intégrés"
   ]
  },
  {
   "cell_type": "markdown",
   "metadata": {},
   "source": [
    "Python est un langage simple à assimiler avec la syntaxe, ce qui le rend facile à apprendre à l’inverse de certaines syntaxes dans d’autres langages. Ajoutons à cela que le langage est très tolérant puisqu’il nous considère et interprète des erreurs que d’autres langages ne considéreraient pas. Cet avantage facilite amplement l’apprentissage de la programmation, les syntaxes viennent instinctivement. Le souci du détail étant volontairement altérer, développer avec un IDE est d’une aisance rarement égalée, de plus le terminal retourne les erreurs avec des données précises.\n",
    "\n",
    "\n",
    "source: https://www.programmez.com/tutoriels/lalternative-en-python"
   ]
  },
  {
   "cell_type": "markdown",
   "metadata": {},
   "source": [
    "# structure list"
   ]
  },
  {
   "cell_type": "markdown",
   "metadata": {},
   "source": [
    "avantage : peuvent être mutable (la table , le nb d'element et les valeurs sont changeable) , ordonné, itérable et indexable (cpossibilité de faire liste[0] = valeur), et on peut mettre nimporte quoi dedans en autant de fois que voulue.\n",
    "\n",
    "Element vide : []\n",
    "source : https://www.irit.fr/~Philippe.Muller/Cours/Magistere/Python_Magistere_L3_CTD_partieI.html"
   ]
  },
  {
   "cell_type": "code",
   "execution_count": 7,
   "metadata": {},
   "outputs": [
    {
     "name": "stdout",
     "output_type": "stream",
     "text": [
      "hello\n"
     ]
    }
   ],
   "source": [
    "# listes ... on peut mélanger les types, mais cela n'a pas trop de sens\n",
    "l=[1,2,3,6,\"hello\"]\n",
    "print (l[4])"
   ]
  },
  {
   "cell_type": "markdown",
   "metadata": {},
   "source": [
    "# structure tuple"
   ]
  },
  {
   "cell_type": "markdown",
   "metadata": {},
   "source": [
    "desavantage : ne peut pas etre changé une fois créer (immutable)\n",
    "avantage : on peut mélanger les types\n",
    "\n",
    "Element vide : ()\n",
    "\n",
    "sources : https://www.irit.fr/~Philippe.Muller/Cours/Magistere/Python_Magistere_L3_CTD1.html"
   ]
  },
  {
   "cell_type": "code",
   "execution_count": 3,
   "metadata": {},
   "outputs": [
    {
     "data": {
      "text/plain": [
       "tuple"
      ]
     },
     "execution_count": 3,
     "metadata": {},
     "output_type": "execute_result"
    }
   ],
   "source": [
    "x = (1,'a',2,'b')\n",
    "type(x)"
   ]
  },
  {
   "cell_type": "code",
   "execution_count": 10,
   "metadata": {},
   "outputs": [
    {
     "data": {
      "text/plain": [
       "(1, 2)"
      ]
     },
     "execution_count": 10,
     "metadata": {},
     "output_type": "execute_result"
    }
   ],
   "source": [
    "x = (1,2,3)\n",
    "\n",
    "x[0:2]"
   ]
  },
  {
   "cell_type": "markdown",
   "metadata": {},
   "source": [
    "# structure dict"
   ]
  },
  {
   "cell_type": "markdown",
   "metadata": {},
   "source": [
    "Similaire aux list et au tuple. Pour chaque valeur que l'on inclue, il faut aussi une clée pour sortir la valeur\n",
    "\n",
    "Les dictionnaires sont des objets pouvant en contenir d'autres, à l'instar des listes. Cependant, au lieu d'héberger des informations dans un ordre précis, ils associent chaque objet contenu à une clé (la plupart du temps, une chaîne de caractères). Par exemple, un dictionnaire peut contenir un carnet d'adresses et on accède à chaque contact en précisant son nom.\n",
    "\n",
    "Element vide : {}\n",
    "\n",
    "source : https://python.sdv.univ-paris-diderot.fr/#dictionnaires"
   ]
  },
  {
   "cell_type": "code",
   "execution_count": 9,
   "metadata": {},
   "outputs": [
    {
     "data": {
      "text/plain": [
       "5.0"
      ]
     },
     "execution_count": 9,
     "metadata": {},
     "output_type": "execute_result"
    }
   ],
   "source": [
    "ani1 = {}\n",
    "ani1['nom'] = 'girafe'\n",
    "ani1['taille'] = 5.0\n",
    "ani1['poids'] = 1100\n",
    "ani1\n",
    "{'nom': 'girafe', 'poids': 1100, 'taille': 5.0}\n",
    "ani1['taille']"
   ]
  },
  {
   "cell_type": "markdown",
   "metadata": {},
   "source": [
    "# structure set"
   ]
  },
  {
   "cell_type": "markdown",
   "metadata": {},
   "source": [
    "Un set est un ensemble, c’est-à-dire une collection non ordonnée d’éléments uniques, ce qui se révèle très pratique dans beaucoup d’usages courants. Ce nouveau type conteneur étant fourni en deux saveurs, l’une mutable (comme les listes), et l’autre immuable (comme les tuples).\n",
    "\n",
    "sources: https://www.programiz.com/python-programming/set"
   ]
  },
  {
   "cell_type": "code",
   "execution_count": 11,
   "metadata": {},
   "outputs": [
    {
     "name": "stdout",
     "output_type": "stream",
     "text": [
      "{1, 2, 3}\n",
      "{1.0, 'Hello', (1, 2, 3)}\n"
     ]
    }
   ],
   "source": [
    "# set of integers\n",
    "my_set = {1, 2, 3}\n",
    "print(my_set)\n",
    "\n",
    "# set of mixed datatypes\n",
    "my_set = {1.0, \"Hello\", (1, 2, 3)}\n",
    "print(my_set)"
   ]
  }
 ],
 "metadata": {
  "kernelspec": {
   "display_name": "Python 3",
   "language": "python",
   "name": "python3"
  },
  "language_info": {
   "codemirror_mode": {
    "name": "ipython",
    "version": 3
   },
   "file_extension": ".py",
   "mimetype": "text/x-python",
   "name": "python",
   "nbconvert_exporter": "python",
   "pygments_lexer": "ipython3",
   "version": "3.6.4"
  }
 },
 "nbformat": 4,
 "nbformat_minor": 2
}
