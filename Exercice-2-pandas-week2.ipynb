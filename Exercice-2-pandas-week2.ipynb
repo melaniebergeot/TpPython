{
 "cells": [
  {
   "cell_type": "markdown",
   "metadata": {
    "collapsed": true
   },
   "source": [
    "# Exercice 2"
   ]
  },
  {
   "cell_type": "markdown",
   "metadata": {},
   "source": [
    "Reprenez l’exercice du notebook concernant l’activité que vous avez choisie.\n",
    "Utilisez matplotlib pour générer deux visualisations différentes de la répartition\n",
    "de votre colocation :\n",
    "1. sous forme de diagramme en barres,\n",
    "2. sous forme de camembert.\n",
    "Vous pouvez vous inspirer de http://matplotlib.org/gallery.html"
   ]
  },
  {
   "cell_type": "code",
   "execution_count": 3,
   "metadata": {},
   "outputs": [],
   "source": [
    "import pandas as pd\n",
    "import numpy as np\n",
    "import matplotlib.pyplot as plt"
   ]
  },
  {
   "cell_type": "markdown",
   "metadata": {},
   "source": [
    "## Question 1 - Série"
   ]
  },
  {
   "cell_type": "code",
   "execution_count": 4,
   "metadata": {},
   "outputs": [],
   "source": [
    "s = pd.Series(['Big Data pour la Transformation Numérique', 'Architecture et Sécurité des Réseaux',\n",
    "               'Ingénieur d’Affaires : Informatique et Réseaux', 'Ingénierie des Services du Numérique',\n",
    "               'Ingénieur Finance', 'Automatique et Robotique Industrielle', 'Énergie et Développement Durable',\n",
    "               'Génie Électrique et Transport', 'Ingénieur d’Affaires : Distribution Énergie et Signaux',\n",
    "               'Mécatronique Génie Électrique', 'Ingénierie des Systèmes Embarqués : Véhicule Autonome',\n",
    "               'Ingénierie des Systèmes Embarqués : Objets Communicants', 'Ingénierie des Systèmes Médicaux',\n",
    "               'Electronique des Systèmes pour l’Automobile et l’Aéronautique', 'Ingénierie Télécom'],\n",
    "              ['BDTN', 'ASR', 'IA-IR', 'ISN', 'IF', 'ARI', 'EDD', 'GET', 'IA-DES', 'MCTGE', 'ISE-VA', 'ISE-OC',\n",
    "               'ISYMED', 'ESAA', 'ICOM'])"
   ]
  },
  {
   "cell_type": "code",
   "execution_count": 5,
   "metadata": {},
   "outputs": [
    {
     "data": {
      "text/plain": [
       "BDTN              Big Data pour la Transformation Numérique\n",
       "ASR                    Architecture et Sécurité des Réseaux\n",
       "IA-IR        Ingénieur d’Affaires : Informatique et Réseaux\n",
       "ISN                    Ingénierie des Services du Numérique\n",
       "IF                                        Ingénieur Finance\n",
       "ARI                   Automatique et Robotique Industrielle\n",
       "EDD                        Énergie et Développement Durable\n",
       "GET                           Génie Électrique et Transport\n",
       "IA-DES    Ingénieur d’Affaires : Distribution Énergie et...\n",
       "MCTGE                         Mécatronique Génie Électrique\n",
       "ISE-VA    Ingénierie des Systèmes Embarqués : Véhicule A...\n",
       "ISE-OC    Ingénierie des Systèmes Embarqués : Objets Com...\n",
       "ISYMED                     Ingénierie des Systèmes Médicaux\n",
       "ESAA      Electronique des Systèmes pour l’Automobile et...\n",
       "ICOM                                     Ingénierie Télécom\n",
       "dtype: object"
      ]
     },
     "execution_count": 5,
     "metadata": {},
     "output_type": "execute_result"
    }
   ],
   "source": [
    "s"
   ]
  },
  {
   "cell_type": "code",
   "execution_count": 6,
   "metadata": {},
   "outputs": [],
   "source": [
    "df = pd.DataFrame(s)"
   ]
  },
  {
   "cell_type": "code",
   "execution_count": 71,
   "metadata": {},
   "outputs": [],
   "source": [
    "df['departement'] = ['TIC','TIC','TIC','TIC','TIC','GEE','GEE','GEE','GEE','SEI','SEI','SEI','SEI','ET','ET']\n"
   ]
  },
  {
   "cell_type": "code",
   "execution_count": 8,
   "metadata": {},
   "outputs": [],
   "source": [
    "df.columns = ['Dominante', 'Departement']\n"
   ]
  },
  {
   "cell_type": "code",
   "execution_count": 9,
   "metadata": {},
   "outputs": [
    {
     "data": {
      "text/html": [
       "<div>\n",
       "<style scoped>\n",
       "    .dataframe tbody tr th:only-of-type {\n",
       "        vertical-align: middle;\n",
       "    }\n",
       "\n",
       "    .dataframe tbody tr th {\n",
       "        vertical-align: top;\n",
       "    }\n",
       "\n",
       "    .dataframe thead th {\n",
       "        text-align: right;\n",
       "    }\n",
       "</style>\n",
       "<table border=\"1\" class=\"dataframe\">\n",
       "  <thead>\n",
       "    <tr style=\"text-align: right;\">\n",
       "      <th></th>\n",
       "      <th>Dominante</th>\n",
       "      <th>Departement</th>\n",
       "    </tr>\n",
       "  </thead>\n",
       "  <tbody>\n",
       "    <tr>\n",
       "      <th>BDTN</th>\n",
       "      <td>Big Data pour la Transformation Numérique</td>\n",
       "      <td>TIC</td>\n",
       "    </tr>\n",
       "    <tr>\n",
       "      <th>ASR</th>\n",
       "      <td>Architecture et Sécurité des Réseaux</td>\n",
       "      <td>TIC</td>\n",
       "    </tr>\n",
       "    <tr>\n",
       "      <th>IA-IR</th>\n",
       "      <td>Ingénieur d’Affaires : Informatique et Réseaux</td>\n",
       "      <td>TIC</td>\n",
       "    </tr>\n",
       "    <tr>\n",
       "      <th>ISN</th>\n",
       "      <td>Ingénierie des Services du Numérique</td>\n",
       "      <td>TIC</td>\n",
       "    </tr>\n",
       "    <tr>\n",
       "      <th>IF</th>\n",
       "      <td>Ingénieur Finance</td>\n",
       "      <td>TIC</td>\n",
       "    </tr>\n",
       "    <tr>\n",
       "      <th>ARI</th>\n",
       "      <td>Automatique et Robotique Industrielle</td>\n",
       "      <td>GEE</td>\n",
       "    </tr>\n",
       "    <tr>\n",
       "      <th>EDD</th>\n",
       "      <td>Énergie et Développement Durable</td>\n",
       "      <td>GEE</td>\n",
       "    </tr>\n",
       "    <tr>\n",
       "      <th>GET</th>\n",
       "      <td>Génie Électrique et Transport</td>\n",
       "      <td>GEE</td>\n",
       "    </tr>\n",
       "    <tr>\n",
       "      <th>IA-DES</th>\n",
       "      <td>Ingénieur d’Affaires : Distribution Énergie et...</td>\n",
       "      <td>GEE</td>\n",
       "    </tr>\n",
       "    <tr>\n",
       "      <th>MCTGE</th>\n",
       "      <td>Mécatronique Génie Électrique</td>\n",
       "      <td>SEI</td>\n",
       "    </tr>\n",
       "    <tr>\n",
       "      <th>ISE-VA</th>\n",
       "      <td>Ingénierie des Systèmes Embarqués : Véhicule A...</td>\n",
       "      <td>SEI</td>\n",
       "    </tr>\n",
       "    <tr>\n",
       "      <th>ISE-OC</th>\n",
       "      <td>Ingénierie des Systèmes Embarqués : Objets Com...</td>\n",
       "      <td>SEI</td>\n",
       "    </tr>\n",
       "    <tr>\n",
       "      <th>ISYMED</th>\n",
       "      <td>Ingénierie des Systèmes Médicaux</td>\n",
       "      <td>SEI</td>\n",
       "    </tr>\n",
       "    <tr>\n",
       "      <th>ESAA</th>\n",
       "      <td>Electronique des Systèmes pour l’Automobile et...</td>\n",
       "      <td>ET</td>\n",
       "    </tr>\n",
       "    <tr>\n",
       "      <th>ICOM</th>\n",
       "      <td>Ingénierie Télécom</td>\n",
       "      <td>ET</td>\n",
       "    </tr>\n",
       "  </tbody>\n",
       "</table>\n",
       "</div>"
      ],
      "text/plain": [
       "                                                Dominante Departement\n",
       "BDTN            Big Data pour la Transformation Numérique         TIC\n",
       "ASR                  Architecture et Sécurité des Réseaux         TIC\n",
       "IA-IR      Ingénieur d’Affaires : Informatique et Réseaux         TIC\n",
       "ISN                  Ingénierie des Services du Numérique         TIC\n",
       "IF                                      Ingénieur Finance         TIC\n",
       "ARI                 Automatique et Robotique Industrielle         GEE\n",
       "EDD                      Énergie et Développement Durable         GEE\n",
       "GET                         Génie Électrique et Transport         GEE\n",
       "IA-DES  Ingénieur d’Affaires : Distribution Énergie et...         GEE\n",
       "MCTGE                       Mécatronique Génie Électrique         SEI\n",
       "ISE-VA  Ingénierie des Systèmes Embarqués : Véhicule A...         SEI\n",
       "ISE-OC  Ingénierie des Systèmes Embarqués : Objets Com...         SEI\n",
       "ISYMED                   Ingénierie des Systèmes Médicaux         SEI\n",
       "ESAA    Electronique des Systèmes pour l’Automobile et...          ET\n",
       "ICOM                                   Ingénierie Télécom          ET"
      ]
     },
     "execution_count": 9,
     "metadata": {},
     "output_type": "execute_result"
    }
   ],
   "source": [
    "df"
   ]
  },
  {
   "cell_type": "code",
   "execution_count": 27,
   "metadata": {},
   "outputs": [],
   "source": [
    "collocation = pd.DataFrame({'Nom': ['BERGEOT', 'CASANOVA', 'DECHASSE', 'PERRIN'],\n",
    "                   'Prénom': ['Melanie', 'Gabriel', 'Antoine', 'Jean-Loup'],\n",
    "                   'Dominante' : ['BDTN', 'ISE-OC', 'ISE-OC', 'ISE-VA'],\n",
    "                    'Departement' : ['TIC','SEI','SEI','SEI']},\n",
    "                  index = [1, 2, 3, 4])"
   ]
  },
  {
   "cell_type": "code",
   "execution_count": 28,
   "metadata": {},
   "outputs": [
    {
     "data": {
      "text/html": [
       "<div>\n",
       "<style scoped>\n",
       "    .dataframe tbody tr th:only-of-type {\n",
       "        vertical-align: middle;\n",
       "    }\n",
       "\n",
       "    .dataframe tbody tr th {\n",
       "        vertical-align: top;\n",
       "    }\n",
       "\n",
       "    .dataframe thead th {\n",
       "        text-align: right;\n",
       "    }\n",
       "</style>\n",
       "<table border=\"1\" class=\"dataframe\">\n",
       "  <thead>\n",
       "    <tr style=\"text-align: right;\">\n",
       "      <th></th>\n",
       "      <th>Departement</th>\n",
       "      <th>Dominante</th>\n",
       "      <th>Nom</th>\n",
       "      <th>Prénom</th>\n",
       "    </tr>\n",
       "  </thead>\n",
       "  <tbody>\n",
       "    <tr>\n",
       "      <th>1</th>\n",
       "      <td>TIC</td>\n",
       "      <td>BDTN</td>\n",
       "      <td>BERGEOT</td>\n",
       "      <td>Melanie</td>\n",
       "    </tr>\n",
       "    <tr>\n",
       "      <th>2</th>\n",
       "      <td>SEI</td>\n",
       "      <td>ISE-OC</td>\n",
       "      <td>CASANOVA</td>\n",
       "      <td>Gabriel</td>\n",
       "    </tr>\n",
       "    <tr>\n",
       "      <th>3</th>\n",
       "      <td>SEI</td>\n",
       "      <td>ISE-OC</td>\n",
       "      <td>DECHASSE</td>\n",
       "      <td>Antoine</td>\n",
       "    </tr>\n",
       "    <tr>\n",
       "      <th>4</th>\n",
       "      <td>SEI</td>\n",
       "      <td>ISE-VA</td>\n",
       "      <td>PERRIN</td>\n",
       "      <td>Jean-Loup</td>\n",
       "    </tr>\n",
       "  </tbody>\n",
       "</table>\n",
       "</div>"
      ],
      "text/plain": [
       "  Departement Dominante       Nom     Prénom\n",
       "1         TIC      BDTN   BERGEOT    Melanie\n",
       "2         SEI    ISE-OC  CASANOVA    Gabriel\n",
       "3         SEI    ISE-OC  DECHASSE    Antoine\n",
       "4         SEI    ISE-VA    PERRIN  Jean-Loup"
      ]
     },
     "execution_count": 28,
     "metadata": {},
     "output_type": "execute_result"
    }
   ],
   "source": [
    "collocation"
   ]
  },
  {
   "cell_type": "code",
   "execution_count": 72,
   "metadata": {},
   "outputs": [],
   "source": [
    "#pourcentage = pd.DataFrame({'Pourcentage' : [(1/4)*100, (2/4)*100, (1/4)*100]},\n",
    "                #  index = ['BDTN', 'ISE-OC','ISE-VA'])\n",
    "#séparations des Datataframes\n",
    "dfSEI = collocation[collocation.Departement=='SEI']\n",
    "dfGEE = collocation[collocation.Departement=='GEE']\n",
    "dfTIC = collocation[collocation.Departement=='TIC']\n",
    "dfET = collocation[collocation.Departement=='ET']\n",
    "\n",
    "pourcentage = [len(dfTIC)/4*100,len(dfGEE)/4*100,len(dfET)/4*100,len(dfSEI)/4*100]\n"
   ]
  },
  {
   "cell_type": "code",
   "execution_count": 73,
   "metadata": {},
   "outputs": [
    {
     "data": {
      "text/plain": [
       "[25.0, 0.0, 0.0, 75.0]"
      ]
     },
     "execution_count": 73,
     "metadata": {},
     "output_type": "execute_result"
    }
   ],
   "source": [
    "pourcentage"
   ]
  },
  {
   "cell_type": "code",
   "execution_count": 14,
   "metadata": {},
   "outputs": [],
   "source": [
    "pourcentage.to_csv(\"pourcentage.csv\")"
   ]
  },
  {
   "cell_type": "code",
   "execution_count": 74,
   "metadata": {},
   "outputs": [
    {
     "data": {
      "image/png": "[encoded data removed]",
      "text/plain": [
       "<matplotlib.figure.Figure at 0x248acf8a518>"
      ]
     },
     "metadata": {},
     "output_type": "display_data"
    }
   ],
   "source": [
    "nbrBar = np.arange(4)\n",
    "width = 0.50\n",
    "\n",
    "b1 = plt.bar(nbrBar, pourcentage , width, label = 'colocation')\n",
    "plt.title('Repartition de la colocation par dominante')\n",
    "plt.xticks(nbrBar, collocation.Departement)\n",
    "plt.ylabel('Pourcentage (en %)')\n",
    "plt.show()\n",
    "\n",
    "#je ne suis pas contente de mon resultat je n'ai finalement que 2 type de dominante (sei et tic)\n",
    "#je vais me renseigner de comment faire pour modifier cela "
   ]
  },
  {
   "cell_type": "code",
   "execution_count": 68,
   "metadata": {},
   "outputs": [
    {
     "data": {
      "image/png": "[encoded data removed]",
      "text/plain": [
       "<matplotlib.figure.Figure at 0x248ab9f4eb8>"
      ]
     },
     "metadata": {},
     "output_type": "display_data"
    }
   ],
   "source": [
    "plt.pie(pourcentage, labels=collocation.Departement , autopct='%1.f%%',\n",
    "        shadow=True, startangle=90)\n",
    "plt.axis('equal')\n",
    "plt.title('repartition des membres de la colocation par dominante')\n",
    "plt.show()\n"
   ]
  },
  {
   "cell_type": "code",
   "execution_count": null,
   "metadata": {},
   "outputs": [],
   "source": []
  }
 ],
 "metadata": {
  "kernelspec": {
   "display_name": "Python 3",
   "language": "python",
   "name": "python3"
  },
  "language_info": {
   "codemirror_mode": {
    "name": "ipython",
    "version": 3
   },
   "file_extension": ".py",
   "mimetype": "text/x-python",
   "name": "python",
   "nbconvert_exporter": "python",
   "pygments_lexer": "ipython3",
   "version": "3.6.4"
  }
 },
 "nbformat": 4,
 "nbformat_minor": 2
}
